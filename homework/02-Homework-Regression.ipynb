{
 "cells": [
  {
   "cell_type": "markdown",
   "id": "3804115f",
   "metadata": {},
   "source": [
    "# ML Zoomcamp Homework 2: Regression"
   ]
  },
  {
   "cell_type": "code",
   "execution_count": 1,
   "id": "649eb1d6",
   "metadata": {},
   "outputs": [],
   "source": [
    "import pandas as pd\n",
    "import numpy as np"
   ]
  },
  {
   "cell_type": "markdown",
   "id": "eb3b3509",
   "metadata": {},
   "source": [
    "## Preparing the Dataset"
   ]
  },
  {
   "cell_type": "code",
   "execution_count": 2,
   "id": "5d992a31",
   "metadata": {},
   "outputs": [],
   "source": [
    "df = pd.read_csv('data/car_fuel_efficiency.csv')\n",
    "\n",
    "columns = [\n",
    "    'engine_displacement',\n",
    "    'horsepower',\n",
    "    'vehicle_weight',\n",
    "    'model_year',\n",
    "    'fuel_efficiency_mpg'\n",
    "]\n",
    "\n",
    "df_filtered = df[columns].copy()"
   ]
  },
  {
   "cell_type": "markdown",
   "id": "7afe4b8e",
   "metadata": {},
   "source": [
    "## Question 1\n",
    "\n",
    "There's one column with missing values. What is it?"
   ]
  },
  {
   "cell_type": "code",
   "execution_count": 3,
   "id": "4e058f08",
   "metadata": {},
   "outputs": [
    {
     "data": {
      "text/plain": [
       "engine_displacement      0\n",
       "horsepower             708\n",
       "vehicle_weight           0\n",
       "model_year               0\n",
       "fuel_efficiency_mpg      0\n",
       "dtype: int64"
      ]
     },
     "execution_count": 3,
     "metadata": {},
     "output_type": "execute_result"
    }
   ],
   "source": [
    "df_filtered.isnull().sum()"
   ]
  },
  {
   "cell_type": "markdown",
   "id": "664d7709-11c4-40ff-b1c5-2b5c8b492bf6",
   "metadata": {},
   "source": [
    "## Question 2\n",
    "\n",
    "What's the median (50% percentile) for variable 'horsepower'?"
   ]
  },
  {
   "cell_type": "code",
   "execution_count": 4,
   "id": "e5c422dc-4951-4e23-a891-418513804a6f",
   "metadata": {},
   "outputs": [
    {
     "data": {
      "text/plain": [
       "149.0"
      ]
     },
     "execution_count": 4,
     "metadata": {},
     "output_type": "execute_result"
    }
   ],
   "source": [
    "df_filtered['horsepower'].median()"
   ]
  },
  {
   "cell_type": "markdown",
   "id": "f7a9a3a1-5e5c-4f5e-9e3e-3e3e3e3e3e3e",
   "metadata": {},
   "source": [
    "## Prepare and split the dataset\n",
    "\n",
    "* Shuffle the dataset (the filtered one you created above), use seed `42`.\n",
    "* Split your data in train/val/test sets, with 60%/20%/20% distribution."
   ]
  },
  {
   "cell_type": "code",
   "execution_count": 5,
   "id": "a1b2c3d4-e5f6-a7b8-c9d0-e1f2a3b4c5d6",
   "metadata": {},
   "outputs": [],
   "source": [
    "# Get the number of rows in the DataFrame\n",
    "n = len(df_filtered)\n",
    "\n",
    "# Calculate the size of each dataset\n",
    "n_val = int(n * 0.2)\n",
    "n_test = int(n * 0.2)\n",
    "n_train = n - n_val - n_test\n",
    "\n",
    "# Create a random permutation of the indices\n",
    "np.random.seed(42)\n",
    "idx = np.arange(n)\n",
    "np.random.shuffle(idx)\n",
    "\n",
    "# Use the shuffled indices to split the DataFrame\n",
    "df_train = df_filtered.iloc[idx[:n_train]]\n",
    "df_val = df_filtered.iloc[idx[n_train:n_train+n_val]]\n",
    "df_test = df_filtered.iloc[idx[n_train+n_val:]]"
   ]
  },
  {
   "cell_type": "markdown",
   "metadata": {},
   "source": [
    "## Question 3\n",
    "\n",
    "* We need to deal with missing values for the column from Q1.\n",
    "* We have two options: fill it with 0 or with the mean of this variable.\n",
    "* Try both options. For each, train a linear regression model without regularization using the code from the lessons.\n",
    "* For computing the mean, use the training only!\n",
    "* Use the validation dataset to evaluate the models and compare the RMSE of each option.\n",
    "* Round the RMSE scores to 2 decimal digits using `round(score, 2)`\n",
    "* Which option gives better RMSE?"
   ]
  },
  {
   "cell_type": "markdown",
   "metadata": {},
   "source": [
    "### Helper Functions"
   ]
  },
  {
   "cell_type": "code",
   "execution_count": 6,
   "metadata": {},
   "outputs": [],
   "source": [
    "def train_linear_regression(X, y):\n",
    "    ones = np.ones(X.shape[0])\n",
    "    X = np.column_stack([ones, X])\n",
    "\n",
    "    XTX = X.T.dot(X)\n",
    "    XTX_inv = np.linalg.inv(XTX)\n",
    "    w_full = XTX_inv.dot(X.T).dot(y)\n",
    "    \n",
    "    return w_full[0], w_full[1:]\n",
    "\n",
    "def rmse(y, y_pred):\n",
    "    se = (y - y_pred) ** 2\n",
    "    mse = se.mean()\n",
    "    return np.sqrt(mse)"
   ]
  },
  {
   "cell_type": "markdown",
   "metadata": {},
   "source": [
    "### Prepare Target Variable"
   ]
  },
  {
   "cell_type": "code",
   "execution_count": 7,
   "metadata": {},
   "outputs": [],
   "source": [
    "y_train = df_train.fuel_efficiency_mpg.values\n",
    "y_val = df_val.fuel_efficiency_mpg.values\n",
    "y_test = df_test.fuel_efficiency_mpg.values"
   ]
  },
  {
   "cell_type": "markdown",
   "metadata": {},
   "source": [
    "### Option 1: Fill with 0"
   ]
  },
  {
   "cell_type": "code",
   "execution_count": 8,
   "metadata": {},
   "outputs": [
    {
     "name": "stdout",
     "output_type": "stream",
     "text": [
      "RMSE on validation (fill with 0): 0.52\n"
     ]
    }
   ],
   "source": [
    "base = ['engine_displacement', 'horsepower', 'vehicle_weight', 'model_year']\n",
    "X_train_0 = df_train[base].fillna(0).values\n",
    "w0_0, w_0 = train_linear_regression(X_train_0, y_train)\n",
    "\n",
    "X_val_0 = df_val[base].fillna(0).values\n",
    "y_pred_val_0 = w0_0 + X_val_0.dot(w_0)\n",
    "rmse_val_0 = rmse(y_val, y_pred_val_0)\n",
    "\n",
    "print(f'RMSE on validation (fill with 0): {round(rmse_val_0, 2)}')"
   ]
  },
  {
   "cell_type": "markdown",
   "metadata": {},
   "source": [
    "### Option 2: Fill with Mean"
   ]
  },
  {
   "cell_type": "code",
   "execution_count": 9,
   "metadata": {},
   "outputs": [
    {
     "name": "stdout",
     "output_type": "stream",
     "text": [
      "RMSE on validation (fill with mean): 0.46\n"
     ]
    }
   ],
   "source": [
    "mean_hp = df_train['horsepower'].mean()\n",
    "X_train_mean = df_train[base].fillna(mean_hp).values\n",
    "w0_mean, w_mean = train_linear_regression(X_train_mean, y_train)\n",
    "\n",
    "X_val_mean = df_val[base].fillna(mean_hp).values\n",
    "y_pred_val_mean = w0_mean + X_val_mean.dot(w_mean)\n",
    "rmse_val_mean = rmse(y_val, y_pred_val_mean)\n",
    "\n",
    "print(f'RMSE on validation (fill with mean): {round(rmse_val_mean, 2)}')"
   ]
  },
  {
   "cell_type": "markdown",
   "metadata": {},
   "source": [
    "## Question 4\n",
    "\n",
    "* Now let's train a regularized linear regression.\n",
    "* For this question, fill the NAs with 0.\n",
    "* Try different values of `r` from this list: `[0, 0.01, 0.1, 1, 5, 10, 100]`.\n",
    "* Use RMSE to evaluate the model on the validation dataset.\n",
    "* Round the RMSE scores to 2 decimal digits.\n",
    "* Which `r` gives the best RMSE?"
   ]
  },
  {
   "cell_type": "code",
   "execution_count": 10,
   "metadata": {},
   "outputs": [
    {
     "name": "stdout",
     "output_type": "stream",
     "text": [
      "r=0, RMSE=0.52\n",
      "r=0.01, RMSE=0.52\n",
      "r=0.1, RMSE=0.52\n",
      "r=1, RMSE=0.52\n",
      "r=5, RMSE=0.52\n",
      "r=10, RMSE=0.52\n",
      "r=100, RMSE=0.52\n"
     ]
    }
   ],
   "source": [
    "def train_linear_regression_reg(X, y, r=0.0):\n",
    "    ones = np.ones(X.shape[0])\n",
    "    X = np.column_stack([ones, X])\n",
    "\n",
    "    XTX = X.T.dot(X)\n",
    "    XTX = XTX + r * np.eye(XTX.shape[0])\n",
    "\n",
    "    XTX_inv = np.linalg.inv(XTX)\n",
    "    w_full = XTX_inv.dot(X.T).dot(y)\n",
    "    \n",
    "    return w_full[0], w_full[1:]\n",
    "\n",
    "X_train_0 = df_train[base].fillna(0).values\n",
    "X_val_0 = df_val[base].fillna(0).values\n",
    "\n",
    "for r in [0, 0.01, 0.1, 1, 5, 10, 100]:\n",
    "    w0, w = train_linear_regression_reg(X_train_0, y_train, r=r)\n",
    "    y_pred_val = w0 + X_val_0.dot(w)\n",
    "    rmse_val = rmse(y_val, y_pred_val)\n",
    "    print(f'r={r}, RMSE={round(rmse_val, 2)}')"
   ]
  },
  {
   "cell_type": "markdown",
   "metadata": {},
   "source": [
    "## Question 5\n",
    "\n",
    "* We used seed 42 for splitting the data. Let's find out how selecting the seed influences our score.\n",
    "* Try different seed values: `[0, 1, 2, 3, 4, 5, 6, 7, 8, 9]`.\n",
    "* For each seed, do the train/validation/test split with 60%/20%/20% distribution.\n",
    "* Fill the missing values with 0 and train a model without regularization.\n",
    "* For each seed, evaluate the model on the validation dataset and collect the RMSE scores.\n",
    "* What's the standard deviation of all the scores? To compute the standard deviation, use `np.std`.\n",
    "* Round the result to 3 decimal digits (`round(std, 3)`)"
   ]
  },
  {
   "cell_type": "code",
   "execution_count": 11,
   "metadata": {},
   "outputs": [
    {
     "name": "stdout",
     "output_type": "stream",
     "text": [
      "Seed=0, RMSE=0.521\n",
      "Seed=1, RMSE=0.521\n",
      "Seed=2, RMSE=0.523\n",
      "Seed=3, RMSE=0.516\n",
      "Seed=4, RMSE=0.511\n",
      "Seed=5, RMSE=0.528\n",
      "Seed=6, RMSE=0.531\n",
      "Seed=7, RMSE=0.509\n",
      "Seed=8, RMSE=0.515\n",
      "Seed=9, RMSE=0.513\n",
      "\n",
      "Standard Deviation of RMSE scores: 0.007\n"
     ]
    }
   ],
   "source": [
    "rmse_scores = []\n",
    "seeds = [0, 1, 2, 3, 4, 5, 6, 7, 8, 9]\n",
    "\n",
    "for seed in seeds:\n",
    "    # Split data with the current seed\n",
    "    np.random.seed(seed)\n",
    "    idx = np.arange(n)\n",
    "    np.random.shuffle(idx)\n",
    "    \n",
    "    df_train = df_filtered.iloc[idx[:n_train]]\n",
    "    df_val = df_filtered.iloc[idx[n_train:n_train+n_val]]\n",
    "    \n",
    "    # Prepare target variable\n",
    "    y_train = df_train.fuel_efficiency_mpg.values\n",
    "    y_val = df_val.fuel_efficiency_mpg.values\n",
    "    \n",
    "    # Prepare features (fill with 0)\n",
    "    X_train = df_train[base].fillna(0).values\n",
    "    X_val = df_val[base].fillna(0).values\n",
    "    \n",
    "    # Train model (non-regularized)\n",
    "    w0, w = train_linear_regression(X_train, y_train)\n",
    "    \n",
    "    # Predict and calculate RMSE\n",
    "    y_pred_val = w0 + X_val.dot(w)\n",
    "    rmse_val = rmse(y_val, y_pred_val)\n",
    "    \n",
    "    rmse_scores.append(rmse_val)\n",
    "    print(f'Seed={seed}, RMSE={round(rmse_val, 3)}')\n",
    "\n",
    "# Calculate standard deviation\n",
    "std_dev = np.std(rmse_scores)\n",
    "print(f'\\nStandard Deviation of RMSE scores: {round(std_dev, 3)}')"
   ]
  },
  {
   "cell_type": "markdown",
   "metadata": {},
   "source": [
    "## Question 6\n",
    "\n",
    "* Split the dataset like previously, use seed 9.\n",
    "* Combine train and validation datasets.\n",
    "* Fill the missing values with 0 and train a model with `r=0.001`.\n",
    "* What's the RMSE on the test dataset?"
   ]
  },
  {
   "cell_type": "code",
   "execution_count": 12,
   "metadata": {},
   "outputs": [
    {
     "name": "stdout",
     "output_type": "stream",
     "text": [
      "RMSE on test set: 0.52\n"
     ]
    }
   ],
   "source": [
    "# Split data with seed 9\n",
    "np.random.seed(9)\n",
    "idx = np.arange(n)\n",
    "np.random.shuffle(idx)\n",
    "\n",
    "df_train = df_filtered.iloc[idx[:n_train]]\n",
    "df_val = df_filtered.iloc[idx[n_train:n_train+n_val]]\n",
    "df_test = df_filtered.iloc[idx[n_train+n_val:]]\n",
    "\n",
    "# Combine train and validation\n",
    "df_full_train = pd.concat([df_train, df_val])\n",
    "\n",
    "# Prepare target variable\n",
    "y_full_train = df_full_train.fuel_efficiency_mpg.values\n",
    "y_test = df_test.fuel_efficiency_mpg.values\n",
    "\n",
    "# Prepare features (fill with 0)\n",
    "X_full_train = df_full_train[base].fillna(0).values\n",
    "X_test = df_test[base].fillna(0).values\n",
    "\n",
    "# Train model\n",
    "w0, w = train_linear_regression_reg(X_full_train, y_full_train, r=0.001)\n",
    "\n",
    "# Predict and calculate RMSE on test set\n",
    "y_pred_test = w0 + X_test.dot(w)\n",
    "rmse_test = rmse(y_test, y_pred_test)\n",
    "\n",
    "print(f'RMSE on test set: {round(rmse_test, 2)}')"
   ]
  }
 ],
 "metadata": {
  "kernelspec": {
   "display_name": "Python 3 (ipykernel)",
   "language": "python",
   "name": "python3"
  },
  "language_info": {
   "codemirror_mode": {
    "name": "ipython",
    "version": 3
   },
   "file_extension": ".py",
   "mimetype": "text/x-python",
   "name": "python",
   "nbconvert_exporter": "python",
   "pygments_lexer": "ipython3",
   "version": "3.11.13"
  }
 },
 "nbformat": 4,
 "nbformat_minor": 5
}