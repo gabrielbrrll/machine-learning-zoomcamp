{
 "cells": [
  {
   "cell_type": "markdown",
   "id": "39bff3a4-f2fb-4053-a21a-29387539f324",
   "metadata": {},
   "source": [
    "# ML Zoomcamp Homework 1"
   ]
  },
  {
   "cell_type": "code",
   "execution_count": null,
   "id": "15eb0781-9c3a-4aab-9f52-974136f8dd3d",
   "metadata": {},
   "outputs": [],
   "source": [
    "import pandas as pd\n",
    "import numpy as np"
   ]
  },
  {
   "cell_type": "markdown",
   "id": "89a7b261-50b3-45bf-b9bc-b6e9f1146ff7",
   "metadata": {},
   "source": [
    "## Q1: What is the Pandas version?"
   ]
  },
  {
   "cell_type": "code",
   "execution_count": null,
   "id": "80689b3f-19b5-4242-a8aa-2f67ce9c5c68",
   "metadata": {},
   "outputs": [],
   "source": [
    "pd.__version__"
   ]
  },
  {
   "cell_type": "markdown",
   "id": "b3797be4-36ed-4258-9761-51a324c520e4",
   "metadata": {},
   "source": [
    "## Q2: How many records are in the dataset?"
   ]
  },
  {
   "cell_type": "markdown",
   "id": "cc883083-6efd-447c-9328-8fc6d7b4080e",
   "metadata": {},
   "source": [
    "### Load the dataset"
   ]
  },
  {
   "cell_type": "code",
   "execution_count": null,
   "id": "f6c21079-6a99-4b2d-a450-7b2b6154258e",
   "metadata": {},
   "outputs": [],
   "source": "df = pd.read_csv('data/car_fuel_efficiency.csv')"
  },
  {
   "cell_type": "markdown",
   "id": "88c29647-fa8a-4297-9425-4bcc5db067be",
   "metadata": {},
   "source": [
    "### Check number of records"
   ]
  },
  {
   "cell_type": "code",
   "execution_count": null,
   "id": "a2f27a78-e97a-4059-ad95-57c5a4f3e24c",
   "metadata": {},
   "outputs": [],
   "source": [
    "len(df)"
   ]
  },
  {
   "cell_type": "markdown",
   "id": "e4c36fdd-f3cb-4140-96b2-daca36f68475",
   "metadata": {},
   "source": [
    "## Q3: How many fuel types are presented?"
   ]
  },
  {
   "cell_type": "code",
   "execution_count": null,
   "id": "3d793869-0805-44ea-ad28-ae20bacb3349",
   "metadata": {},
   "outputs": [],
   "source": [
    "df['fuel_type'].nunique()"
   ]
  },
  {
   "cell_type": "markdown",
   "id": "1eac56d4-18f5-42e3-bc99-1b05ac068241",
   "metadata": {},
   "source": [
    "## Q4: How many columns have missing values?"
   ]
  },
  {
   "cell_type": "code",
   "execution_count": null,
   "id": "996ed451-8617-47f3-a6cc-3cd9667b7ea9",
   "metadata": {},
   "outputs": [],
   "source": [
    "int((df.isnull().sum() > 0).sum())"
   ]
  },
  {
   "cell_type": "markdown",
   "id": "eb04313f-b9aa-409c-bb4c-f94de31bc9ba",
   "metadata": {},
   "source": [
    "## Q5: What's the maximum fuel efficiency of cars from Asia?"
   ]
  },
  {
   "cell_type": "code",
   "execution_count": null,
   "id": "c1c51dc0-661f-4de5-9a51-60319d1117fa",
   "metadata": {},
   "outputs": [],
   "source": [
    "round(df[df['origin'] == 'Asia']['fuel_efficiency_mpg'].max(), 2)"
   ]
  },
  {
   "cell_type": "markdown",
   "id": "0733cbd2-c12e-447e-8a98-00da33eeb300",
   "metadata": {},
   "source": [
    "## Q6: Median horsepower challenge?"
   ]
  },
  {
   "cell_type": "markdown",
   "id": "84c564fc-8b48-484e-b7b0-b6240c6f8215",
   "metadata": {},
   "source": [
    "### Step 1: Find the current median horsepower"
   ]
  },
  {
   "cell_type": "code",
   "execution_count": null,
   "id": "28992162-121e-485c-af8d-f84de805f939",
   "metadata": {},
   "outputs": [],
   "source": [
    "current_median = df['horsepower'].median()\n",
    "print(current_median)"
   ]
  },
  {
   "cell_type": "markdown",
   "id": "448e1cd4-a75e-40bc-92f7-9def9d84b42d",
   "metadata": {},
   "source": [
    "### Step 2: Find the most frequent horsepower value"
   ]
  },
  {
   "cell_type": "code",
   "execution_count": null,
   "id": "3304a86d-76e7-4664-ad2f-6593ab24e761",
   "metadata": {},
   "outputs": [],
   "source": [
    "most_frequent_horsepower = df['horsepower'].mode()[0]\n",
    "print(most_frequent_horsepower)"
   ]
  },
  {
   "cell_type": "markdown",
   "id": "c428f67f-2da1-4754-92a9-df57d4b3b457",
   "metadata": {},
   "source": [
    "### Step 3: Fill the missing horsepower values with the most frequent value"
   ]
  },
  {
   "cell_type": "code",
   "execution_count": null,
   "id": "8dce11d7-7cd1-4706-9f78-c6fca0707e9d",
   "metadata": {},
   "outputs": [],
   "source": [
    "df['horsepower'] = df['horsepower'].fillna(most_frequent_horsepower)"
   ]
  },
  {
   "cell_type": "markdown",
   "id": "33e60744-4f01-40da-92a4-241baa6fa8e4",
   "metadata": {},
   "source": [
    "### Step 4: Calculate the new median"
   ]
  },
  {
   "cell_type": "code",
   "execution_count": null,
   "id": "f839a997-96b7-4e03-8038-1f8fd7528d95",
   "metadata": {},
   "outputs": [],
   "source": [
    "updated_median = df['horsepower'].median()\n",
    "print(updated_median)"
   ]
  },
  {
   "cell_type": "markdown",
   "id": "9a810480-5ff8-4c6e-a3c5-a7d549251ce8",
   "metadata": {},
   "source": [
    "### Step 5: Check if median changed"
   ]
  },
  {
   "cell_type": "code",
   "execution_count": null,
   "id": "1b36808d-aa04-45ba-b445-4b9c58c3efea",
   "metadata": {},
   "outputs": [],
   "source": [
    "if updated_median < current_median:\n",
    "    print(\"Yes, increased\")\n",
    "elif updated_median > current_median:\n",
    "    print(\"No, decreased\")\n",
    "else:\n",
    "    print(\"No\")"
   ]
  },
  {
   "cell_type": "markdown",
   "id": "fa99ba20-e198-4425-8ebb-dbcefc04c2f6",
   "metadata": {},
   "source": [
    "## Q7: Complex Matrix Calculation"
   ]
  },
  {
   "cell_type": "markdown",
   "id": "95bf2601-97d0-4203-87cd-248d86322aaa",
   "metadata": {},
   "source": [
    "### Step 1: Filter for Asian cars"
   ]
  },
  {
   "cell_type": "code",
   "execution_count": null,
   "id": "ff0348d8-1013-4d62-be80-13e15d83b27d",
   "metadata": {},
   "outputs": [],
   "source": [
    "asian_cars = df[df['origin'] == 'Asia']"
   ]
  },
  {
   "cell_type": "markdown",
   "id": "ce8b90b7-9c27-4e31-836c-c510f70ce172",
   "metadata": {},
   "source": [
    "### Step 2: Select vehicle_weight and model_year columns, take first 7 rows"
   ]
  },
  {
   "cell_type": "code",
   "execution_count": null,
   "id": "06531aa5-3f4b-4297-8cee-75389b7eeae6",
   "metadata": {},
   "outputs": [],
   "source": [
    "X = asian_cars[['vehicle_weight','model_year']].head(7).values\n",
    "print(X)"
   ]
  },
  {
   "cell_type": "markdown",
   "id": "35760b5a-1ac7-4d9e-807a-743324ae2ea3",
   "metadata": {},
   "source": [
    "### Step 3: Calculate X^T * X (transpose of X times X)"
   ]
  },
  {
   "cell_type": "code",
   "execution_count": null,
   "id": "9ca80e5c-8cb3-467e-8027-55ba9b37340a",
   "metadata": {},
   "outputs": [],
   "source": [
    "XTX = X.T @ X\n",
    "print(XTX)"
   ]
  },
  {
   "cell_type": "markdown",
   "id": "b7182a32-ecb0-4a09-8b05-94aff48d0c93",
   "metadata": {},
   "source": [
    "### Step 4: Calculate the inverse of XTX"
   ]
  },
  {
   "cell_type": "code",
   "execution_count": null,
   "id": "940a3c2c-a015-441b-a4b1-ed7d4acd4f3f",
   "metadata": {},
   "outputs": [],
   "source": [
    "XTX_inv = np.linalg.inv(XTX)\n",
    "print(XTX_inv)"
   ]
  },
  {
   "cell_type": "markdown",
   "id": "3ce5fb2f-2e0b-4c36-a7ce-791211127351",
   "metadata": {},
   "source": [
    "### Step 5: Create array y"
   ]
  },
  {
   "cell_type": "code",
   "execution_count": null,
   "id": "4a9b0ed8-7abf-4f81-99aa-f3835739f89b",
   "metadata": {},
   "outputs": [],
   "source": [
    "y = np.array([1000, 1100, 900, 1200, 1000, 850, 1300])"
   ]
  },
  {
   "cell_type": "markdown",
   "id": "9b9be435-e443-48e4-8a0f-b2f3c9c2a0b1",
   "metadata": {},
   "source": [
    "### Step 6: Multiply XTX_inv by X^T, then by Y"
   ]
  },
  {
   "cell_type": "code",
   "execution_count": null,
   "id": "0cd2562e-6049-404f-a936-ee95c7cb24ee",
   "metadata": {},
   "outputs": [],
   "source": [
    "result = XTX_inv @ X.T @ y\n",
    "print(result)"
   ]
  },
  {
   "cell_type": "markdown",
   "id": "28952773-5899-4524-9414-4da637863d46",
   "metadata": {},
   "source": [
    "### Step 7: Sum all elements"
   ]
  },
  {
   "cell_type": "code",
   "execution_count": null,
   "id": "35e9831c-ad5f-4da6-b8fe-c3ca008b81ef",
   "metadata": {},
   "outputs": [],
   "source": [
    "final_sum = result.sum()\n",
    "print(final_sum)"
   ]
  }
 ],
 "metadata": {
  "kernelspec": {
   "display_name": "Python 3 (ipykernel)",
   "language": "python",
   "name": "python3"
  },
  "language_info": {
   "codemirror_mode": {
    "name": "ipython",
    "version": 3
   },
   "file_extension": ".py",
   "mimetype": "text/x-python",
   "name": "python",
   "nbconvert_exporter": "python",
   "pygments_lexer": "ipython3",
   "version": "3.11.13"
  }
 },
 "nbformat": 4,
 "nbformat_minor": 5
}